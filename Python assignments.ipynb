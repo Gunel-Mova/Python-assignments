import os
import pandas as pd
import numpy as np
import shutil
import csv

{
 "cells": [
  {
   "cell_type": "markdown",
   "id": "3c0f6a79",
   "metadata": {},
   "source": [
    "1. Calculate Area of a Circle"
   ]
  },
  {
   "cell_type": "code",
   "execution_count": 1,
   "id": "f06e6fb3",
   "metadata": {
    "ExecuteTime": {
     "end_time": "2022-03-24T08:22:35.746107Z",
     "start_time": "2022-03-24T08:22:32.146343Z"
    }
   },
   "outputs": [
    {
     "name": "stdout",
     "output_type": "stream",
     "text": [
      "Please enter the circle's radius:7\n",
      "153.86\n"
     ]
    }
   ],
   "source": [
    "PI = 3.14\n",
    "r = float(input(\"Please enter the circle's radius:\"))\n",
    "area = PI * r **2\n",
    "print(area)"
   ]
  },
  {
   "cell_type": "markdown",
   "id": "f5f6fb80",
   "metadata": {
    "ExecuteTime": {
     "end_time": "2022-03-09T14:13:46.016056Z",
     "start_time": "2022-03-09T14:13:46.016049Z"
    }
   },
   "source": [
    " 2. Say Hello to user, Expected, ‘Hello name’"
   ]
  },
  {
   "cell_type": "code",
   "execution_count": 1,
   "id": "b0ba364d",
   "metadata": {
    "ExecuteTime": {
     "end_time": "2022-03-04T08:19:13.266662Z",
     "start_time": "2022-03-04T08:19:07.308155Z"
    }
   },
   "outputs": [
    {
     "name": "stdout",
     "output_type": "stream",
     "text": [
      "Enter your name:  Gunel\n",
      "Hello Gunel!\n"
     ]
    }
   ],
   "source": [
    "name = input(\"Enter your name:  \")\n",
    "print(\"Hello\", name + \"!\")"
   ]
  },
  {
   "cell_type": "markdown",
   "id": "7ce4c979",
   "metadata": {},
   "source": [
    "3. Calculate Volume of Sphere"
   ]
  },
  {
   "cell_type": "code",
   "execution_count": 2,
   "id": "705e54d2",
   "metadata": {
    "ExecuteTime": {
     "end_time": "2022-03-24T08:23:38.660732Z",
     "start_time": "2022-03-24T08:23:33.548773Z"
    }
   },
   "outputs": [
    {
     "name": "stdout",
     "output_type": "stream",
     "text": [
      "Please enter the sphere's radius:11\n",
      "The volume of the sphere is:  5572.453333333333\n"
     ]
    }
   ],
   "source": [
    "PI = 3.14\n",
    "r = float(input(\"Please enter the sphere's radius:\"))\n",
    "V = 4.0/3.0*PI*r**3\n",
    "print('The volume of the sphere is: ',V)"
   ]
  },
  {
   "cell_type": "markdown",
   "id": "cce02e54",
   "metadata": {},
   "source": [
    "4. Copy String in n times"
   ]
  },
  {
   "cell_type": "code",
   "execution_count": 15,
   "id": "337f9898",
   "metadata": {
    "ExecuteTime": {
     "end_time": "2022-03-09T14:26:26.746649Z",
     "start_time": "2022-03-09T14:26:25.099930Z"
    }
   },
   "outputs": [
    {
     "name": "stdout",
     "output_type": "stream",
     "text": [
      "the number:7\n",
      "abcdabcdabcdabcdabcdabcdabcd\n"
     ]
    }
   ],
   "source": [
    "n = int(input(\"the number:\"))\n",
    "repeated = \"abcd\" * n\n",
    "print(repeated)"
   ]
  },
  {
   "cell_type": "markdown",
   "id": "a98d051a",
   "metadata": {
    "ExecuteTime": {
     "end_time": "2022-03-09T14:13:46.017965Z",
     "start_time": "2022-03-09T14:13:46.017958Z"
    }
   },
   "source": [
    "5. Calculate Area of a Triangle\n"
   ]
  },
  {
   "cell_type": "code",
   "execution_count": 26,
   "id": "9a2863e0",
   "metadata": {
    "ExecuteTime": {
     "end_time": "2022-03-09T14:44:40.854153Z",
     "start_time": "2022-03-09T14:44:37.735534Z"
    }
   },
   "outputs": [
    {
     "name": "stdout",
     "output_type": "stream",
     "text": [
      "Enter 1st side:3\n",
      "Enter 2nd side: 5\n",
      "Enter 3rd side: 7\n",
      "6.49519052838329\n"
     ]
    }
   ],
   "source": [
    "a = float(input('Enter 1st side:'))\n",
    "b = float(input('Enter 2nd side: '))\n",
    "c = float(input('Enter 3rd side: '))\n",
    "s = (a+b+c)/2\n",
    "area = (s*(s-a)*(s-b)*(s-c))**0.5\n",
    "print(area)"
   ]
  },
  {
   "cell_type": "code",
   "execution_count": 30,
   "id": "5e49e7cc",
   "metadata": {
    "ExecuteTime": {
     "end_time": "2022-03-09T14:48:55.385262Z",
     "start_time": "2022-03-09T14:48:50.300132Z"
    }
   },
   "outputs": [
    {
     "name": "stdout",
     "output_type": "stream",
     "text": [
      "base:7\n",
      "height:9\n",
      "31.5\n"
     ]
    }
   ],
   "source": [
    "base = float(input('base:'))\n",
    "height = float(input('height:'))\n",
    "area = 1/2 * base * height\n",
    "print(area)"
   ]
  },
  {
   "cell_type": "markdown",
   "id": "b40564a5",
   "metadata": {},
   "source": [
    "6. Calculate Interest"
   ]
  },
  {
   "cell_type": "code",
   "execution_count": 33,
   "id": "7fd612b1",
   "metadata": {
    "ExecuteTime": {
     "end_time": "2022-03-09T14:55:25.634013Z",
     "start_time": "2022-03-09T14:55:25.628524Z"
    }
   },
   "outputs": [
    {
     "name": "stdout",
     "output_type": "stream",
     "text": [
      "210.0\n"
     ]
    }
   ],
   "source": [
    "P = 1000\n",
    "T = 7\n",
    "R = 3\n",
    "Si = (P*T*R)/100\n",
    "print(Si)"
   ]
  },
  {
   "cell_type": "markdown",
   "id": "33176df9",
   "metadata": {},
   "source": [
    "7. Calculate Euclidean Distance"
   ]
  },
  {
   "cell_type": "code",
   "execution_count": 38,
   "id": "e9a8afe0",
   "metadata": {
    "ExecuteTime": {
     "end_time": "2022-03-09T15:02:45.929364Z",
     "start_time": "2022-03-09T15:02:45.923718Z"
    }
   },
   "outputs": [
    {
     "name": "stdout",
     "output_type": "stream",
     "text": [
      "1.7320508075688772\n"
     ]
    }
   ],
   "source": [
    "import numpy as np\n",
    "point_a = np.array((1,1,1))\n",
    "point_b = np.array((2,2,2))\n",
    "distance = np.linalg.norm(point_a-point_b)\n",
    "print(distance)"
   ]
  },
  {
   "cell_type": "markdown",
   "id": "b2de108a",
   "metadata": {},
   "source": [
    "8. Feet to centimeter Converter"
   ]
  },
  {
   "cell_type": "code",
   "execution_count": 3,
   "id": "974d5b7d",
   "metadata": {
    "ExecuteTime": {
     "end_time": "2022-03-24T08:27:19.193969Z",
     "start_time": "2022-03-24T08:27:19.184587Z"
    }
   },
   "outputs": [
    {
     "name": "stdout",
     "output_type": "stream",
     "text": [
      "274.32\n"
     ]
    }
   ],
   "source": [
    "feet = 9\n",
    "cm = 30.48 * feet\n",
    "print(cm)"
   ]
  },
  {
   "cell_type": "code",
   "execution_count": 4,
   "id": "faba7a30",
   "metadata": {
    "ExecuteTime": {
     "end_time": "2022-03-24T08:27:52.326793Z",
     "start_time": "2022-03-24T08:27:49.909915Z"
    }
   },
   "outputs": [
    {
     "name": "stdout",
     "output_type": "stream",
     "text": [
      "Enter the feet:9\n",
      "274.32\n"
     ]
    }
   ],
   "source": [
    "feet = int(input(\"Enter the feet:\"))\n",
    "centimeter = 30.48 * feet\n",
    "print(round(centimeter,2))"
   ]
  },
  {
   "cell_type": "markdown",
   "id": "3513b739",
   "metadata": {},
   "source": [
    "9. BMI Calculator"
   ]
  },
  {
   "cell_type": "code",
   "execution_count": 44,
   "id": "b892da58",
   "metadata": {
    "ExecuteTime": {
     "end_time": "2022-03-09T15:19:38.003836Z",
     "start_time": "2022-03-09T15:19:29.546634Z"
    }
   },
   "outputs": [
    {
     "name": "stdout",
     "output_type": "stream",
     "text": [
      "Enter your height in cm: 165\n",
      "Enter your weight in kg: 52\n",
      "Your BMI is 19.100091827364558\n"
     ]
    }
   ],
   "source": [
    "height = float(input(\"Enter your height in cm: \"))\n",
    "weight = float(input(\"Enter your weight in kg: \"))\n",
    "BMI = weight/(height/100)**2\n",
    "print(f\"Your BMI is {BMI}\")"
   ]
  },
  {
   "cell_type": "markdown",
   "id": "790af9d1",
   "metadata": {},
   "source": [
    "10. Binary to Decimal"
   ]
  },
  {
   "cell_type": "code",
   "execution_count": 3,
   "id": "754d7d67",
   "metadata": {
    "ExecuteTime": {
     "end_time": "2022-03-13T18:41:47.858786Z",
     "start_time": "2022-03-13T18:41:47.851289Z"
    },
    "scrolled": true
   },
   "outputs": [
    {
     "name": "stdout",
     "output_type": "stream",
     "text": [
      "4\n",
      "10\n",
      "19\n"
     ]
    }
   ],
   "source": [
    "def binaryToDecimal(n):\n",
    "    return int(n,2)\n",
    "if __name__ == '__main__':\n",
    "    print(binaryToDecimal('100'))\n",
    "    print(binaryToDecimal('1010'))\n",
    "    print(binaryToDecimal('10011'))"
   ]
  },
  {
   "cell_type": "markdown",
   "id": "14310866",
   "metadata": {},
   "source": [
    "11. Receive two integral numbers in string form and compute their sum and then print it in console."
   ]
  },
  {
   "cell_type": "code",
   "execution_count": 11,
   "id": "eef3735f",
   "metadata": {
    "ExecuteTime": {
     "end_time": "2022-03-13T19:03:45.869690Z",
     "start_time": "2022-03-13T19:03:45.863288Z"
    }
   },
   "outputs": [
    {
     "data": {
      "text/plain": [
       "50"
      ]
     },
     "execution_count": 11,
     "metadata": {},
     "output_type": "execute_result"
    }
   ],
   "source": [
    "def calculateSum(num1,num2):\n",
    "    s = int(num1) + int(num2)\n",
    "    return s \n",
    "calculateSum(\"20\",\"30\")"
   ]
  },
  {
   "cell_type": "markdown",
   "id": "a51fee80",
   "metadata": {},
   "source": [
    "14. str1=\" this is a sample daTaa to test for the task\" Check if ‘is’ present in str1"
   ]
  },
  {
   "cell_type": "code",
   "execution_count": 20,
   "id": "ba371dc5",
   "metadata": {
    "ExecuteTime": {
     "end_time": "2022-03-13T19:21:37.602282Z",
     "start_time": "2022-03-13T19:21:37.596710Z"
    }
   },
   "outputs": [
    {
     "name": "stdout",
     "output_type": "stream",
     "text": [
      " Does 'is' exist in str1? : \n",
      "Yes\n"
     ]
    }
   ],
   "source": [
    "str1 = \"this is a sample daTaa to test for the task\"\n",
    "print(\" Does 'is' exist in str1? : \")\n",
    "if \"is\" in str1:\n",
    "    print(\"Yes\")\n",
    "else:\n",
    "    print(\"No\")            "
   ]
  },
  {
   "cell_type": "markdown",
   "id": "b20b77b6",
   "metadata": {},
   "source": [
    " 15.  Check if ‘was’ not present in str1"
   ]
  },
  {
   "cell_type": "code",
   "execution_count": 24,
   "id": "8e770ef9",
   "metadata": {
    "ExecuteTime": {
     "end_time": "2022-03-13T19:24:58.764290Z",
     "start_time": "2022-03-13T19:24:58.758167Z"
    }
   },
   "outputs": [
    {
     "name": "stdout",
     "output_type": "stream",
     "text": [
      " Does 'was' exist in str1? : \n",
      "No\n"
     ]
    }
   ],
   "source": [
    "str1 = \"this is a sample daTaa to test for the task\"\n",
    "print(\" Does 'was' exist in str1? : \")\n",
    "if \"was\" not in str1:\n",
    "    print(\"No\")\n",
    "else:\n",
    "    print(\"Yes\") "
   ]
  },
  {
   "cell_type": "markdown",
   "id": "5b9b7989",
   "metadata": {},
   "source": [
    "16. Print str1 in uppercase"
   ]
  },
  {
   "cell_type": "code",
   "execution_count": 27,
   "id": "7907d8c5",
   "metadata": {
    "ExecuteTime": {
     "end_time": "2022-03-13T19:29:04.106890Z",
     "start_time": "2022-03-13T19:29:04.101792Z"
    }
   },
   "outputs": [
    {
     "data": {
      "text/plain": [
       "'THIS IS A SAMPLE DATAA TO TEST FOR THE TASK'"
      ]
     },
     "execution_count": 27,
     "metadata": {},
     "output_type": "execute_result"
    }
   ],
   "source": [
    "str1.upper()"
   ]
  },
  {
   "cell_type": "markdown",
   "id": "bb6dfff3",
   "metadata": {},
   "source": [
    "17.  Print str1 as title"
   ]
  },
  {
   "cell_type": "code",
   "execution_count": 29,
   "id": "466fce94",
   "metadata": {
    "ExecuteTime": {
     "end_time": "2022-03-13T19:30:40.166440Z",
     "start_time": "2022-03-13T19:30:40.160972Z"
    },
    "scrolled": true
   },
   "outputs": [
    {
     "data": {
      "text/plain": [
       "'This Is A Sample Dataa To Test For The Task'"
      ]
     },
     "execution_count": 29,
     "metadata": {},
     "output_type": "execute_result"
    }
   ],
   "source": [
    "str1.title()"
   ]
  },
  {
   "cell_type": "markdown",
   "id": "09f551ec",
   "metadata": {},
   "source": [
    "18. Get a new string from str1 ‘DatTaa’ as ‘Data’"
   ]
  },
  {
   "cell_type": "code",
   "execution_count": 32,
   "id": "8a6957c8",
   "metadata": {
    "ExecuteTime": {
     "end_time": "2022-03-13T20:01:22.589447Z",
     "start_time": "2022-03-13T20:01:22.586102Z"
    },
    "scrolled": true
   },
   "outputs": [],
   "source": [
    "str2 = str1.replace(\"daTaa\",\"Data\")"
   ]
  },
  {
   "cell_type": "markdown",
   "id": "3fc681a4",
   "metadata": {},
   "source": [
    "19. Print a new string with extra \"a\" removed form previous task"
   ]
  },
  {
   "cell_type": "code",
   "execution_count": 33,
   "id": "cf4f96db",
   "metadata": {
    "ExecuteTime": {
     "end_time": "2022-03-13T20:01:30.771823Z",
     "start_time": "2022-03-13T20:01:30.766631Z"
    },
    "scrolled": true
   },
   "outputs": [
    {
     "name": "stdout",
     "output_type": "stream",
     "text": [
      "this is a sample Data to test for the task\n"
     ]
    }
   ],
   "source": [
    "print(str2)"
   ]
  },
  {
   "cell_type": "markdown",
   "id": "738e3670",
   "metadata": {},
   "source": [
    "20. Display ‘sample’ word from ‘ this is another sample string ‘"
   ]
  },
  {
   "cell_type": "code",
   "execution_count": 36,
   "id": "29ee9cfc",
   "metadata": {
    "ExecuteTime": {
     "end_time": "2022-03-13T20:05:39.827983Z",
     "start_time": "2022-03-13T20:05:39.824120Z"
    },
    "scrolled": true
   },
   "outputs": [
    {
     "name": "stdout",
     "output_type": "stream",
     "text": [
      "sample\n"
     ]
    }
   ],
   "source": [
    "samplestring = \"this is another sample string\"\n",
    "print(samplestring[16:22])"
   ]
  },
  {
   "cell_type": "markdown",
   "id": "765bb3b0",
   "metadata": {},
   "source": [
    "\n",
    "21. Display date, month and year form 21-oct-2020"
   ]
  },
  {
   "cell_type": "code",
   "execution_count": 6,
   "id": "c744dc0c",
   "metadata": {
    "ExecuteTime": {
     "end_time": "2022-03-14T21:49:11.894233Z",
     "start_time": "2022-03-14T21:49:11.885788Z"
    }
   },
   "outputs": [
    {
     "name": "stdout",
     "output_type": "stream",
     "text": [
      "2020-10-21 00:00:00\n",
      "October\n",
      "2020\n"
     ]
    }
   ],
   "source": [
    "import datetime\n",
    "date = datetime.datetime(2020,10,21)\n",
    "print(date)\n",
    "print(date.strftime(\"%B\"))\n",
    "print(date.strftime(\"%Y\"))"
   ]
  },
  {
   "cell_type": "markdown",
   "id": "5deabd7b",
   "metadata": {},
   "source": [
    "22. arr = “10,20,30,40,50,60,70”, get “50,60”"
   ]
  },
  {
   "cell_type": "code",
   "execution_count": 20,
   "id": "853525e4",
   "metadata": {
    "ExecuteTime": {
     "end_time": "2022-03-14T22:11:18.291955Z",
     "start_time": "2022-03-14T22:11:18.286539Z"
    },
    "scrolled": true
   },
   "outputs": [
    {
     "name": "stdout",
     "output_type": "stream",
     "text": [
      "[50 60]\n"
     ]
    }
   ],
   "source": [
    "import numpy as np\n",
    "arr = np.array([10,20,30,40,50,60,70])\n",
    "print(arr[4:6])"
   ]
  },
  {
   "cell_type": "code",
   "execution_count": 21,
   "id": "4561798a",
   "metadata": {
    "ExecuteTime": {
     "end_time": "2022-03-14T22:11:23.601185Z",
     "start_time": "2022-03-14T22:11:23.595664Z"
    },
    "scrolled": false
   },
   "outputs": [
    {
     "name": "stdout",
     "output_type": "stream",
     "text": [
      "(array([4, 5]),)\n",
      "[50 60]\n"
     ]
    }
   ],
   "source": [
    "indices =np.where((arr >=50)& (arr <70))\n",
    "print(indices)\n",
    "print(arr[indices])"
   ]
  },
  {
   "cell_type": "markdown",
   "id": "209d4f54",
   "metadata": {},
   "source": [
    "23. Using negative index get \"50 ,60\""
   ]
  },
  {
   "cell_type": "code",
   "execution_count": 24,
   "id": "2f080621",
   "metadata": {
    "ExecuteTime": {
     "end_time": "2022-03-14T22:18:40.247043Z",
     "start_time": "2022-03-14T22:18:40.240087Z"
    }
   },
   "outputs": [
    {
     "name": "stdout",
     "output_type": "stream",
     "text": [
      "[50 60]\n"
     ]
    }
   ],
   "source": [
    "arr = np.array([10,20,30,40,50,60,70])\n",
    "print(arr[-3:-1])"
   ]
  },
  {
   "cell_type": "markdown",
   "id": "41f7ad2d",
   "metadata": {},
   "source": [
    "24. From credit_str get ‘8888’\n",
    "credit_str = \"xxxx----xxxx-8888------xxxx\""
   ]
  },
  {
   "cell_type": "code",
   "execution_count": 25,
   "id": "2019ddfd",
   "metadata": {
    "ExecuteTime": {
     "end_time": "2022-03-14T22:18:44.270237Z",
     "start_time": "2022-03-14T22:18:44.265198Z"
    }
   },
   "outputs": [
    {
     "data": {
      "text/plain": [
       "'8888'"
      ]
     },
     "execution_count": 25,
     "metadata": {},
     "output_type": "execute_result"
    }
   ],
   "source": [
    "credit_str = \"xxxx----xxxx-8888------xxxx\"\n",
    "credit_str[13:17]"
   ]
  },
  {
   "cell_type": "markdown",
   "id": "a4774f53",
   "metadata": {},
   "source": [
    "25. From credit_str get ‘0’\n",
    "  credit_str = \"1234-5678-9878-0434\""
   ]
  },
  {
   "cell_type": "code",
   "execution_count": 23,
   "id": "40bfb58d",
   "metadata": {
    "ExecuteTime": {
     "end_time": "2022-03-14T22:15:02.028857Z",
     "start_time": "2022-03-14T22:15:02.024014Z"
    },
    "scrolled": true
   },
   "outputs": [
    {
     "data": {
      "text/plain": [
       "'0'"
      ]
     },
     "execution_count": 23,
     "metadata": {},
     "output_type": "execute_result"
    }
   ],
   "source": [
    "credit_str = \"1234-5678-9878-0434\"\n",
    "credit_str[-4]"
   ]
  },
  {
   "cell_type": "markdown",
   "id": "0a08cbdf",
   "metadata": {},
   "source": [
    "26. Convert a integer into a string and print it in console."
   ]
  },
  {
   "cell_type": "code",
   "execution_count": 29,
   "id": "a37e4a0d",
   "metadata": {
    "ExecuteTime": {
     "end_time": "2022-03-14T22:24:06.053891Z",
     "start_time": "2022-03-14T22:24:06.047559Z"
    }
   },
   "outputs": [
    {
     "name": "stdout",
     "output_type": "stream",
     "text": [
      "7\n",
      "<class 'str'>\n"
     ]
    }
   ],
   "source": [
    "num = 7\n",
    "converted_num = str(num)\n",
    "print(converted_num)\n",
    "print(type(converted_num))"
   ]
  },
  {
   "cell_type": "markdown",
   "id": "a88e903c",
   "metadata": {},
   "source": [
    "\n",
    "27. Take two strings as input and concatenate them and then print it"
   ]
  },
  {
   "cell_type": "code",
   "execution_count": 31,
   "id": "bc262e4c",
   "metadata": {
    "ExecuteTime": {
     "end_time": "2022-03-14T22:28:33.733663Z",
     "start_time": "2022-03-14T22:28:33.725485Z"
    }
   },
   "outputs": [
    {
     "name": "stdout",
     "output_type": "stream",
     "text": [
      "Hello Happy World\n"
     ]
    }
   ],
   "source": [
    "str1 = \"Hello\"\n",
    "str2 = \" Happy World\"\n",
    "str3 = str1 + str2 \n",
    "print(str3)"
   ]
  },
  {
   "cell_type": "markdown",
   "id": "265d1adf",
   "metadata": {},
   "source": [
    "28. Convert the given string into list\n",
    "given_string = \" Apples is differnt from Apple Inc\""
   ]
  },
  {
   "cell_type": "code",
   "execution_count": 35,
   "id": "9f7cf6b9",
   "metadata": {
    "ExecuteTime": {
     "end_time": "2022-03-14T22:33:11.614364Z",
     "start_time": "2022-03-14T22:33:11.608374Z"
    }
   },
   "outputs": [
    {
     "data": {
      "text/plain": [
       "['Apples', 'is', 'differnt', 'from', 'Apple', 'Inc']"
      ]
     },
     "execution_count": 35,
     "metadata": {},
     "output_type": "execute_result"
    }
   ],
   "source": [
    "given_string = \"Apples is differnt from Apple Inc\"\n",
    "given_string.split(\" \")"
   ]
  },
  {
   "cell_type": "markdown",
   "id": "061d287e",
   "metadata": {},
   "source": [
    "29. print type of a and get the 1 element \n",
    "a = {(1,2):1,(2,3):2}"
   ]
  },
  {
   "cell_type": "code",
   "execution_count": 6,
   "id": "a333d364",
   "metadata": {
    "ExecuteTime": {
     "end_time": "2022-03-16T20:23:51.010312Z",
     "start_time": "2022-03-16T20:23:51.003537Z"
    }
   },
   "outputs": [
    {
     "name": "stdout",
     "output_type": "stream",
     "text": [
      "<class 'dict'>\n",
      "1\n"
     ]
    }
   ],
   "source": [
    "a = {(1,2):1,(2,3):2}\n",
    "print(type(a))\n",
    "print(a[(1,2)])"
   ]
  },
  {
   "cell_type": "markdown",
   "id": "3392fd2b",
   "metadata": {},
   "source": [
    "30. write a program to get  list as 4,3,2 from the list below\n"
   ]
  },
  {
   "cell_type": "code",
   "execution_count": 51,
   "id": "e90a71a1",
   "metadata": {
    "ExecuteTime": {
     "end_time": "2022-03-09T19:36:58.594967Z",
     "start_time": "2022-03-09T19:36:58.586506Z"
    }
   },
   "outputs": [
    {
     "data": {
      "text/plain": [
       "[4, 3, 2]"
      ]
     },
     "execution_count": 51,
     "metadata": {},
     "output_type": "execute_result"
    }
   ],
   "source": [
    "a=1,2,3,4,5\n",
    "sorted(a[1:4],reverse = True)"
   ]
  },
  {
   "cell_type": "markdown",
   "id": "b2c213fe",
   "metadata": {
    "ExecuteTime": {
     "end_time": "2022-03-09T19:37:56.034655Z",
     "start_time": "2022-03-09T19:37:56.029118Z"
    }
   },
   "source": [
    "31. write a program to get odd number only using a slicing\n"
   ]
  },
  {
   "cell_type": "code",
   "execution_count": 64,
   "id": "9bb39d37",
   "metadata": {
    "ExecuteTime": {
     "end_time": "2022-03-09T19:45:46.913025Z",
     "start_time": "2022-03-09T19:45:46.907415Z"
    }
   },
   "outputs": [
    {
     "data": {
      "text/plain": [
       "(1, 3, 5, 7, 9)"
      ]
     },
     "execution_count": 64,
     "metadata": {},
     "output_type": "execute_result"
    }
   ],
   "source": [
    "a=1,2,3,4,5,6,7,8,9\n",
    "a[0:9:2]"
   ]
  },
  {
   "cell_type": "markdown",
   "id": "ad2431c3",
   "metadata": {},
   "source": [
    "32. create a tuple with (1,2) 5 times"
   ]
  },
  {
   "cell_type": "code",
   "execution_count": 67,
   "id": "b50c604c",
   "metadata": {
    "ExecuteTime": {
     "end_time": "2022-03-09T20:08:04.476227Z",
     "start_time": "2022-03-09T20:08:04.472230Z"
    }
   },
   "outputs": [
    {
     "name": "stdout",
     "output_type": "stream",
     "text": [
      "(1, 2, 1, 2, 1, 2, 1, 2, 1, 2)\n"
     ]
    }
   ],
   "source": [
    "t = (1,2)*5\n",
    "print(t)"
   ]
  },
  {
   "cell_type": "markdown",
   "id": "0a337c69",
   "metadata": {},
   "source": [
    "33. from given list create separate lists of strings and numbers.use list comprehension"
   ]
  },
  {
   "cell_type": "code",
   "execution_count": 76,
   "id": "93f1bc2e",
   "metadata": {
    "ExecuteTime": {
     "end_time": "2022-03-09T20:22:56.663775Z",
     "start_time": "2022-03-09T20:22:56.657514Z"
    }
   },
   "outputs": [
    {
     "name": "stdout",
     "output_type": "stream",
     "text": [
      "[100, 310.28, 27.0, 1000]\n"
     ]
    }
   ],
   "source": [
    "gadgets = [\"Mobile\", \"Laptop\", 100, \"Camera\", 310.28, \"Speakers\", 27.00, \"Television\", 1000, \"Laptop Case\", \"Camera Lens\"]\n",
    "numbers = [x for x in gadgets if type(x)!= str]\n",
    "print(numbers)"
   ]
  },
  {
   "cell_type": "code",
   "execution_count": 78,
   "id": "6fa83c25",
   "metadata": {
    "ExecuteTime": {
     "end_time": "2022-03-09T20:24:14.038410Z",
     "start_time": "2022-03-09T20:24:14.030491Z"
    }
   },
   "outputs": [
    {
     "name": "stdout",
     "output_type": "stream",
     "text": [
      "['Mobile', 'Laptop', 'Camera', 'Speakers', 'Television', 'Laptop Case', 'Camera Lens']\n"
     ]
    }
   ],
   "source": [
    "strings = [s for s in gadgets if type(s)== str]\n",
    "print(strings)"
   ]
  },
  {
   "cell_type": "markdown",
   "id": "190a9bb1",
   "metadata": {},
   "source": [
    "36. print the numbers which are divisible by 2 but are not a multiple of 5"
   ]
  },
  {
   "cell_type": "code",
   "execution_count": 88,
   "id": "737d3bd8",
   "metadata": {
    "ExecuteTime": {
     "end_time": "2022-03-09T20:40:09.558670Z",
     "start_time": "2022-03-09T20:40:09.552507Z"
    }
   },
   "outputs": [
    {
     "name": "stdout",
     "output_type": "stream",
     "text": [
      "2\n",
      "4\n",
      "6\n",
      "8\n"
     ]
    }
   ],
   "source": [
    "for i in range(1, 10):\n",
    "    if (i%2==0) and (i%5 != 0):\n",
    "        print(i)"
   ]
  },
  {
   "cell_type": "markdown",
   "id": "eceda998",
   "metadata": {},
   "source": [
    "37. print the sum of tuple : use comprehension"
   ]
  },
  {
   "cell_type": "code",
   "execution_count": 94,
   "id": "3c405132",
   "metadata": {
    "ExecuteTime": {
     "end_time": "2022-03-09T20:50:19.559384Z",
     "start_time": "2022-03-09T20:50:19.555712Z"
    },
    "scrolled": true
   },
   "outputs": [],
   "source": [
    "init_tuple = [(0, 1), (1, 2), (2, 3)]"
   ]
  },
  {
   "cell_type": "markdown",
   "id": "a9e5923e",
   "metadata": {},
   "source": [
    "39. get the list of value of dict in sorted way"
   ]
  },
  {
   "cell_type": "code",
   "execution_count": 97,
   "id": "969278d6",
   "metadata": {
    "ExecuteTime": {
     "end_time": "2022-03-09T20:56:40.800739Z",
     "start_time": "2022-03-09T20:56:40.792809Z"
    }
   },
   "outputs": [
    {
     "data": {
      "text/plain": [
       "[96, 97, 98]"
      ]
     },
     "execution_count": 97,
     "metadata": {},
     "output_type": "execute_result"
    }
   ],
   "source": [
    "dict = {'c': 97, 'a': 96, 'b': 98}\n",
    "sorted(dict.values())"
   ]
  },
  {
   "cell_type": "markdown",
   "id": "af5ff3bb",
   "metadata": {},
   "source": [
    "40. Creating a Dictionary with Integer Keys and print it"
   ]
  },
  {
   "cell_type": "code",
   "execution_count": 103,
   "id": "a409ca02",
   "metadata": {
    "ExecuteTime": {
     "end_time": "2022-03-09T21:11:41.252558Z",
     "start_time": "2022-03-09T21:11:41.247082Z"
    }
   },
   "outputs": [
    {
     "name": "stdout",
     "output_type": "stream",
     "text": [
      "{1: 'Finland', 2: 'Sweden', 3: 'Norway'}\n",
      "dict_keys([1, 2, 3])\n"
     ]
    }
   ],
   "source": [
    "dict = {1: 'Finland', 2: 'Sweden', 3: 'Norway'}\n",
    "print(dict)\n",
    "print(dict.keys())"
   ]
  },
  {
   "cell_type": "markdown",
   "id": "4e6c8317",
   "metadata": {},
   "source": [
    "41. Creating a Dictionary with Mixed keys"
   ]
  },
  {
   "cell_type": "code",
   "execution_count": 105,
   "id": "9e3a68a2",
   "metadata": {
    "ExecuteTime": {
     "end_time": "2022-03-09T21:13:05.679857Z",
     "start_time": "2022-03-09T21:13:05.675614Z"
    }
   },
   "outputs": [
    {
     "name": "stdout",
     "output_type": "stream",
     "text": [
      "{1: 'Sweden', 'Nordic': 'Norway', 'happiest': 'Finland'}\n"
     ]
    }
   ],
   "source": [
    "dict_2 = {1:'Sweden', 'Nordic':'Norway', 'happiest':'Finland'}\n",
    "print(dict_2)"
   ]
  },
  {
   "cell_type": "markdown",
   "id": "c10ccb8e",
   "metadata": {},
   "source": [
    "42. Creating an empty Dictionary"
   ]
  },
  {
   "cell_type": "code",
   "execution_count": 106,
   "id": "5c536e20",
   "metadata": {
    "ExecuteTime": {
     "end_time": "2022-03-09T21:14:34.868392Z",
     "start_time": "2022-03-09T21:14:34.864851Z"
    }
   },
   "outputs": [
    {
     "name": "stdout",
     "output_type": "stream",
     "text": [
      "{}\n"
     ]
    }
   ],
   "source": [
    "dict_3 = {}\n",
    "print(dict_3)"
   ]
  },
  {
   "cell_type": "markdown",
   "id": "680287d6",
   "metadata": {},
   "source": [
    "\n",
    "43. Creating a Dictionary with dict() method"
   ]
  },
  {
   "cell_type": "code",
   "execution_count": 1,
   "id": "1cbb991e",
   "metadata": {
    "ExecuteTime": {
     "end_time": "2022-03-10T13:00:26.190275Z",
     "start_time": "2022-03-10T13:00:26.184458Z"
    }
   },
   "outputs": [
    {
     "name": "stdout",
     "output_type": "stream",
     "text": [
      "{1: 'Baku', 2: 'city'}\n"
     ]
    }
   ],
   "source": [
    "dict_sample = dict({1:'Baku',2:'city'})\n",
    "print(dict_sample)"
   ]
  },
  {
   "cell_type": "markdown",
   "id": "676b0c0a",
   "metadata": {},
   "source": [
    "\n",
    "44. Creating a Dictionary with each item as a Pair"
   ]
  },
  {
   "cell_type": "code",
   "execution_count": 2,
   "id": "32c1d6d8",
   "metadata": {
    "ExecuteTime": {
     "end_time": "2022-03-10T13:08:29.687394Z",
     "start_time": "2022-03-10T13:08:29.681922Z"
    }
   },
   "outputs": [
    {
     "name": "stdout",
     "output_type": "stream",
     "text": [
      "{'first_name': 'Ross', 'last_name': 'Depp', 'age': 27}\n"
     ]
    }
   ],
   "source": [
    "personal_info ={'first_name':'Ross', 'last_name': 'Depp','age':27}\n",
    "print(personal_info)"
   ]
  },
  {
   "cell_type": "markdown",
   "id": "af2b8165",
   "metadata": {},
   "source": [
    "\n",
    "45. Creating a Nested Dictionary as shown in the below image\n",
    " {1: 'python', 2: 'For', 3: {'A': 'Welcome', 'B': 'To', 'C': 'Python', 'D': 'class'}}"
   ]
  },
  {
   "cell_type": "code",
   "execution_count": 10,
   "id": "0e045ce6",
   "metadata": {
    "ExecuteTime": {
     "end_time": "2022-03-10T13:28:14.962134Z",
     "start_time": "2022-03-10T13:28:14.956096Z"
    }
   },
   "outputs": [
    {
     "name": "stdout",
     "output_type": "stream",
     "text": [
      "{'first_name': 'Ross', 'last_name': 'Depp', 'age': 27, 'hobby': {'Swimming': True, 'Football': False}}\n"
     ]
    }
   ],
   "source": [
    "personal_info2 = {'first_name':'Ross', 'last_name': 'Depp','age':27,'hobby':{'Swimming':True,'Football':False}}\n",
    "print(personal_info2)"
   ]
  },
  {
   "cell_type": "markdown",
   "id": "8553ba63",
   "metadata": {},
   "source": [
    "46. Add a Nested Key value to nested dictionary Dictionary"
   ]
  },
  {
   "cell_type": "code",
   "execution_count": 12,
   "id": "8b587485",
   "metadata": {
    "ExecuteTime": {
     "end_time": "2022-03-10T13:31:18.102090Z",
     "start_time": "2022-03-10T13:31:18.096452Z"
    }
   },
   "outputs": [
    {
     "name": "stdout",
     "output_type": "stream",
     "text": [
      "{'first_name': 'Ross', 'last_name': 'Depp', 'age': 27, 'hobby': {'Swimming': True, 'Football': False}, 'work_experience': {1: 'Teacher', 2: 'Data Analyst'}}\n"
     ]
    }
   ],
   "source": [
    "personal_info2['work_experience']={}\n",
    "personal_info2['work_experience'][1]='Teacher'\n",
    "personal_info2['work_experience'][2]='Data Analyst'\n",
    "print(personal_info2)"
   ]
  },
  {
   "cell_type": "markdown",
   "id": "1e30846a",
   "metadata": {},
   "source": [
    "47. create a dictionary with id:num and value: square for range (0,6) using dict comprehension\n"
   ]
  },
  {
   "cell_type": "code",
   "execution_count": 13,
   "id": "43931f44",
   "metadata": {
    "ExecuteTime": {
     "end_time": "2022-03-10T14:28:22.033943Z",
     "start_time": "2022-03-10T14:28:22.024373Z"
    }
   },
   "outputs": [
    {
     "name": "stdout",
     "output_type": "stream",
     "text": [
      "{0: 0, 1: 1, 2: 4, 3: 9, 4: 16, 5: 25}\n"
     ]
    }
   ],
   "source": [
    "new_dict = {n:n**2 for n in range(0,6)}\n",
    "print(new_dict)"
   ]
  },
  {
   "cell_type": "markdown",
   "id": "b9ae40b8",
   "metadata": {},
   "source": [
    "48. create a dictionary using dict comprehension to get the odd square only "
   ]
  },
  {
   "cell_type": "code",
   "execution_count": 15,
   "id": "f9f8859e",
   "metadata": {
    "ExecuteTime": {
     "end_time": "2022-03-10T14:31:23.846453Z",
     "start_time": "2022-03-10T14:31:23.841786Z"
    }
   },
   "outputs": [
    {
     "name": "stdout",
     "output_type": "stream",
     "text": [
      "{1: 1, 3: 9, 5: 25}\n"
     ]
    }
   ],
   "source": [
    "odd_square = {n:n**2 for n in range(0,6) if n%2 != 0}\n",
    "print(odd_square)"
   ]
  },
  {
   "cell_type": "markdown",
   "id": "aeaf4c9b",
   "metadata": {},
   "source": [
    "49. from a given dict {1: 'a', 2: 'b', 3: 'c'} change the key into item and viceversa"
   ]
  },
  {
   "cell_type": "code",
   "execution_count": 17,
   "id": "b18abc03",
   "metadata": {
    "ExecuteTime": {
     "end_time": "2022-03-10T14:37:24.160080Z",
     "start_time": "2022-03-10T14:37:24.155932Z"
    }
   },
   "outputs": [
    {
     "name": "stdout",
     "output_type": "stream",
     "text": [
      "dict_items([(1, 'a'), (2, 'b'), (3, 'c')])\n"
     ]
    }
   ],
   "source": [
    "dict_v = {1: 'a', 2: 'b', 3: 'c'}\n",
    "print(dict_v.items())"
   ]
  },
  {
   "cell_type": "code",
   "execution_count": 23,
   "id": "09acef48",
   "metadata": {
    "ExecuteTime": {
     "end_time": "2022-03-10T14:43:46.906332Z",
     "start_time": "2022-03-10T14:43:46.901450Z"
    }
   },
   "outputs": [
    {
     "name": "stdout",
     "output_type": "stream",
     "text": [
      "{'a': 1, 'b': 2, 'c': 3}\n"
     ]
    }
   ],
   "source": [
    "dict_v2 = dict((v,k) for k,v in dict_v.items())\n",
    "print(dict_v2)"
   ]
  },
  {
   "cell_type": "markdown",
   "id": "e9d4ce8a",
   "metadata": {},
   "source": [
    "50. get a hello from the given dict\n"
   ]
  },
  {
   "cell_type": "code",
   "execution_count": 15,
   "id": "e4d28d6c",
   "metadata": {
    "ExecuteTime": {
     "end_time": "2022-03-16T20:27:24.452897Z",
     "start_time": "2022-03-16T20:27:24.448219Z"
    },
    "scrolled": true
   },
   "outputs": [
    {
     "name": "stdout",
     "output_type": "stream",
     "text": [
      "hello\n"
     ]
    }
   ],
   "source": [
    "d = {'k1':[{'nest_key':['this is deep','hello']}]}\n",
    "h = d['k1'][0]\n",
    "print(h['nest_key'][1])\n"
   ]
  },
  {
   "cell_type": "code",
   "execution_count": 30,
   "id": "77e2ee92",
   "metadata": {
    "ExecuteTime": {
     "end_time": "2022-03-16T20:37:35.534538Z",
     "start_time": "2022-03-16T20:37:35.524858Z"
    },
    "scrolled": false
   },
   "outputs": [
    {
     "name": "stdout",
     "output_type": "stream",
     "text": [
      "hello\n"
     ]
    }
   ],
   "source": [
    "d1 = {'k1':[1,2,{'k2':['this is tricky',{'tough':[1,2,'hello']}]}]}\n",
    "he = d1['k1'][2]\n",
    "hel = he['k2'][1]\n",
    "hel1 = hel['tough'][2]\n",
    "print(hel1)"
   ]
  },
  {
   "cell_type": "markdown",
   "id": "40b8f62a",
   "metadata": {},
   "source": [
    "51. Divisibility Check of user given 2 input of numbers"
   ]
  },
  {
   "cell_type": "code",
   "execution_count": 35,
   "id": "900bfada",
   "metadata": {
    "ExecuteTime": {
     "end_time": "2022-03-16T20:48:38.932920Z",
     "start_time": "2022-03-16T20:48:34.624586Z"
    }
   },
   "outputs": [
    {
     "name": "stdout",
     "output_type": "stream",
     "text": [
      "Enter number: 20\n",
      "The number is divisible by 2\n"
     ]
    }
   ],
   "source": [
    "num = int(input(\"Enter number: \"))\n",
    "if(num%2) ==0:\n",
    "    print(\"The number is divisible by 2\")\n",
    "else:\n",
    "    print(\"Not divisible by 2\")"
   ]
  },
  {
   "cell_type": "markdown",
   "id": "0532f26e",
   "metadata": {},
   "source": [
    "52. Check if number is even or odd"
   ]
  },
  {
   "cell_type": "code",
   "execution_count": 34,
   "id": "5076740c",
   "metadata": {
    "ExecuteTime": {
     "end_time": "2022-03-16T20:48:28.222331Z",
     "start_time": "2022-03-16T20:48:26.070120Z"
    }
   },
   "outputs": [
    {
     "name": "stdout",
     "output_type": "stream",
     "text": [
      "Enter number: 7\n",
      "The number is odd\n"
     ]
    }
   ],
   "source": [
    "num1 = int(input(\"Enter number: \"))\n",
    "if(num1%2) ==0:\n",
    "    print(\"The number is even\")\n",
    "else:\n",
    "    print(\"The number is odd\")"
   ]
  },
  {
   "cell_type": "markdown",
   "id": "16f1431e",
   "metadata": {},
   "source": [
    "53. Check whether Entered character is Vowel or not"
   ]
  },
  {
   "cell_type": "code",
   "execution_count": 42,
   "id": "46b91299",
   "metadata": {
    "ExecuteTime": {
     "end_time": "2022-03-16T20:58:41.491979Z",
     "start_time": "2022-03-16T20:58:39.427469Z"
    }
   },
   "outputs": [
    {
     "name": "stdout",
     "output_type": "stream",
     "text": [
      "Enter the character: b\n",
      "The character b is not vowel\n"
     ]
    }
   ],
   "source": [
    "ch = input(\"Enter the character: \")\n",
    "if(ch == 'a'or ch== 'A'or ch== 'e'or ch== 'E'or ch== 'i' or ch=='I' or ch=='o' or ch=='O' or ch=='u' or ch=='U'):\n",
    "    print(\"The character\",ch, \"is vowel\")\n",
    "else:\n",
    "    print(\"The character\",ch, \"is not vowel\")"
   ]
  },
  {
   "cell_type": "markdown",
   "id": "5e8a0585",
   "metadata": {},
   "source": [
    "54. calculate Sum of n positive Integer\n",
    "example: Sum of n positive Integer till 2 is 3"
   ]
  },
  {
   "cell_type": "code",
   "execution_count": null,
   "id": "2b3624f5",
   "metadata": {},
   "outputs": [],
   "source": []
  },
  {
   "cell_type": "markdown",
   "id": "1c5b4d56",
   "metadata": {
    "ExecuteTime": {
     "end_time": "2022-03-16T20:52:21.294821Z",
     "start_time": "2022-03-16T20:52:21.291665Z"
    }
   },
   "source": [
    "55. calculate the Digit Sum of a number (eg: 123 print 1+2+3=6)"
   ]
  },
  {
   "cell_type": "code",
   "execution_count": 45,
   "id": "1d8bb497",
   "metadata": {
    "ExecuteTime": {
     "end_time": "2022-03-16T21:18:57.180274Z",
     "start_time": "2022-03-16T21:18:57.173493Z"
    }
   },
   "outputs": [
    {
     "name": "stdout",
     "output_type": "stream",
     "text": [
      "6\n"
     ]
    }
   ],
   "source": [
    "def DigitSum(n):\n",
    "    sum = 0\n",
    "    for digit in str(n):\n",
    "        sum+=int(digit)\n",
    "    return sum\n",
    "n = 123\n",
    "print(DigitSum(n))"
   ]
  },
  {
   "cell_type": "markdown",
   "id": "023b26b2",
   "metadata": {},
   "source": [
    "56. Count Numbers, Alphabets, and Special Character from user input string"
   ]
  },
  {
   "cell_type": "code",
   "execution_count": 47,
   "id": "7c021f98",
   "metadata": {
    "ExecuteTime": {
     "end_time": "2022-03-16T21:27:19.162591Z",
     "start_time": "2022-03-16T21:27:06.905739Z"
    },
    "scrolled": true
   },
   "outputs": [
    {
     "name": "stdout",
     "output_type": "stream",
     "text": [
      "Please Enter String : Judy has 2 sisters and 3 brothers .!\n",
      "\n",
      "Total Number of Alphabets in this String :   25\n",
      "Total Number of Numbers in this String :   2\n",
      "Total Number of Special Characters in this String :   9\n"
     ]
    }
   ],
   "source": [
    "string = input(\"Please Enter String : \")\n",
    "alphabets = numbers = special = 0\n",
    "\n",
    "for i in range(len(string)):\n",
    "    if(string[i].isalpha()):\n",
    "        alphabets = alphabets + 1\n",
    "    elif(string[i].isdigit()):\n",
    "        numbers = numbers + 1\n",
    "    else:\n",
    "        special = special + 1\n",
    "        \n",
    "print(\"\\nTotal Number of Alphabets in this String :  \", alphabets)\n",
    "print(\"Total Number of Numbers in this String :  \", numbers)\n",
    "print(\"Total Number of Special Characters in this String :  \", special)"
   ]
  },
  {
   "cell_type": "markdown",
   "id": "76cc77f2",
   "metadata": {},
   "source": [
    "57. construct the given pattern\n",
    "\n",
    "```\n",
    "* \n",
    "* * \n",
    "* * * \n",
    "* * * * \n",
    "* * * * * \n",
    "* * * * \n",
    "* * * \n",
    "* * \n",
    "* \n",
    "````"
   ]
  },
  {
   "cell_type": "code",
   "execution_count": 3,
   "id": "5fd14af0",
   "metadata": {
    "ExecuteTime": {
     "end_time": "2022-03-17T14:40:56.900666Z",
     "start_time": "2022-03-17T14:40:56.890484Z"
    },
    "scrolled": true
   },
   "outputs": [
    {
     "name": "stdout",
     "output_type": "stream",
     "text": [
      "* \n",
      "* * \n",
      "* * * \n",
      "* * * * \n",
      "* * * * * \n",
      "* * * * \n",
      "* * * \n",
      "* * \n",
      "* \n",
      "\n"
     ]
    }
   ],
   "source": [
    "n = 5\n",
    "for i in range(0,n):\n",
    "    for j in range(0,i+1):\n",
    "        print(\"* \",end = \"\")\n",
    "    print()\n",
    "for i in range(n,0,-1):\n",
    "    for j in range(0,i-1):\n",
    "        print(\"* \",end =\"\")\n",
    "    print()"
   ]
  },
  {
   "cell_type": "markdown",
   "id": "ca8b4b25",
   "metadata": {},
   "source": [
    "\n",
    "58. Count number of characters in a string\n",
    "eg : {'h': 1, 'e': 1, 'l': 2, 'o': 1}\n"
   ]
  },
  {
   "cell_type": "code",
   "execution_count": 64,
   "id": "c0d6f695",
   "metadata": {
    "ExecuteTime": {
     "end_time": "2022-03-16T21:59:59.476826Z",
     "start_time": "2022-03-16T21:59:59.470722Z"
    }
   },
   "outputs": [
    {
     "name": "stdout",
     "output_type": "stream",
     "text": [
      "4\n"
     ]
    }
   ],
   "source": [
    "str_1 = {'h': 1, 'e': 1, 'l': 2, 'o': 1}\n",
    "print(len(str_1))"
   ]
  },
  {
   "cell_type": "markdown",
   "id": "26f38cd2",
   "metadata": {},
   "source": [
    " 59. write a program to compute 5/0 using try except"
   ]
  },
  {
   "cell_type": "code",
   "execution_count": 4,
   "id": "2ba4e183",
   "metadata": {
    "ExecuteTime": {
     "end_time": "2022-03-17T14:45:36.118347Z",
     "start_time": "2022-03-17T14:45:36.111338Z"
    }
   },
   "outputs": [
    {
     "name": "stdout",
     "output_type": "stream",
     "text": [
      "Division by Zero!\n"
     ]
    }
   ],
   "source": [
    "c = 5\n",
    "d = 0\n",
    "try:\n",
    "    e = c/d\n",
    "    print(e)\n",
    "except ZeroDivisionError:\n",
    "    print(\"Division by Zero!\")"
   ]
  },
  {
   "cell_type": "markdown",
   "id": "b1f4c7a1",
   "metadata": {},
   "source": [
    "60. Handle the exception thrown by the code below by using try and except blocks.\n"
   ]
  },
  {
   "cell_type": "code",
   "execution_count": 8,
   "id": "f5c349c4",
   "metadata": {
    "ExecuteTime": {
     "end_time": "2022-03-17T14:58:52.777737Z",
     "start_time": "2022-03-17T14:58:52.766865Z"
    }
   },
   "outputs": [
    {
     "name": "stdout",
     "output_type": "stream",
     "text": [
      "It must be integer\n",
      "It must be integer\n"
     ]
    }
   ],
   "source": [
    "li=[\"hello\",\"class\"]\n",
    "for i in li:\n",
    "    try: \n",
    "        print(i**2)\n",
    "    except TypeError:\n",
    "        print(\"It must be integer\")\n",
    "        "
   ]
  },
  {
   "cell_type": "markdown",
   "id": "b10dfc51",
   "metadata": {},
   "source": [
    "\n",
    "61.  Write a function that asks for an integer and prints the square of it. Use a while loop with a try,except, else block to account for incorrect inputs."
   ]
  },
  {
   "cell_type": "code",
   "execution_count": null,
   "id": "1473e78f",
   "metadata": {
    "ExecuteTime": {
     "start_time": "2022-03-17T15:12:59.244Z"
    }
   },
   "outputs": [
    {
     "name": "stdout",
     "output_type": "stream",
     "text": [
      "Enter a value: 7\n",
      "Thank you, your number squared is 49\n",
      "Enter a value: ana\n",
      "Please try again\n",
      "Enter a value: 25\n",
      "Thank you, your number squared is 625\n"
     ]
    }
   ],
   "source": [
    "while True:\n",
    "    try:\n",
    "        x = int(input(\"Enter a value: \"))\n",
    "        print(\"Thank you, your number squared is\", x**2)\n",
    "    except:\n",
    "        print(\"Please try again\")\n",
    "    "
   ]
  },
  {
   "cell_type": "markdown",
   "id": "d9fcd787",
   "metadata": {},
   "source": [
    "62. Accept the String and print the words composed of digits only"
   ]
  },
  {
   "cell_type": "code",
   "execution_count": 10,
   "id": "7ede3f77",
   "metadata": {
    "ExecuteTime": {
     "end_time": "2022-03-17T15:50:10.284144Z",
     "start_time": "2022-03-17T15:50:06.104962Z"
    }
   },
   "outputs": [
    {
     "name": "stdout",
     "output_type": "stream",
     "text": [
      "enter string: 7g7777\n",
      "No\n"
     ]
    }
   ],
   "source": [
    "strx = input(\"enter string: \")\n",
    "if strx.isdigit():\n",
    "    print(strx)\n",
    "else:\n",
    "    print(\"No\")"
   ]
  },
  {
   "cell_type": "markdown",
   "id": "fcce054f",
   "metadata": {},
   "source": [
    "63. find the parity outlier from the given sequence use list comprehension"
   ]
  },
  {
   "cell_type": "code",
   "execution_count": 11,
   "id": "e77b3632",
   "metadata": {
    "ExecuteTime": {
     "end_time": "2022-03-17T15:57:20.808620Z",
     "start_time": "2022-03-17T15:57:20.798922Z"
    }
   },
   "outputs": [
    {
     "name": "stdout",
     "output_type": "stream",
     "text": [
      "[2]\n"
     ]
    }
   ],
   "source": [
    "seq=[1,2,3,5,7]\n",
    "outlier = [x for x in seq if x%2 == 0]\n",
    "print(outlier)"
   ]
  },
  {
   "cell_type": "markdown",
   "id": "ca20f526",
   "metadata": {},
   "source": [
    "\n",
    "65. Write a program that inputs a number from the user and displays the factorial of that number using while loop.\n"
   ]
  },
  {
   "cell_type": "code",
   "execution_count": 16,
   "id": "2042f0fc",
   "metadata": {
    "ExecuteTime": {
     "end_time": "2022-03-17T16:13:35.034198Z",
     "start_time": "2022-03-17T16:13:35.028437Z"
    }
   },
   "outputs": [
    {
     "name": "stdout",
     "output_type": "stream",
     "text": [
      "6\n"
     ]
    }
   ],
   "source": [
    "def factorial(n):\n",
    "    num =1\n",
    "    while n >= 1:\n",
    "        num = num * n\n",
    "        n= n-1\n",
    "    return num\n",
    "f = factorial(3)\n",
    "print(f)"
   ]
  },
  {
   "cell_type": "markdown",
   "id": "cc394c93",
   "metadata": {},
   "source": [
    "66. Ask the user for a number,to pick the color from the list print the color."
   ]
  },
  {
   "cell_type": "code",
   "execution_count": 29,
   "id": "1a1e6607",
   "metadata": {
    "ExecuteTime": {
     "end_time": "2022-03-17T16:29:48.078233Z",
     "start_time": "2022-03-17T16:29:41.169467Z"
    }
   },
   "outputs": [
    {
     "name": "stdout",
     "output_type": "stream",
     "text": [
      "Enter number betwen 0 and 3 to pick color: 2\n",
      "Orange\n"
     ]
    }
   ],
   "source": [
    "color= [\"Blue\", \"Green\", \"Orange\", \"Red\"]\n",
    "x = int(input(\"Enter number betwen 0 and 3 to pick color: \"))\n",
    "print(color[(x)])"
   ]
  },
  {
   "cell_type": "markdown",
   "id": "48a75b93",
   "metadata": {},
   "source": [
    "67. Write a program that computes the value of a+aa+aaa+aaaa with a given digit as the value of a."
   ]
  },
  {
   "cell_type": "code",
   "execution_count": 39,
   "id": "8a03344d",
   "metadata": {
    "ExecuteTime": {
     "end_time": "2022-03-17T20:31:09.297749Z",
     "start_time": "2022-03-17T20:31:06.539918Z"
    }
   },
   "outputs": [
    {
     "name": "stdout",
     "output_type": "stream",
     "text": [
      "3\n",
      "3702\n"
     ]
    }
   ],
   "source": [
    "a = input()\n",
    "n1 = int( \"%s\" % a )\n",
    "n2 = int( \"%s%s\" % (a,a) )\n",
    "n3 = int( \"%s%s%s\" % (a,a,a) )\n",
    "n4 = int( \"%s%s%s%s\" % (a,a,a,a) )\n",
    "print(n1+n2+n3+n4)"
   ]
  },
  {
   "cell_type": "markdown",
   "id": "0f088d2d",
   "metadata": {},
   "source": [
    "68. write a program that lets user to input the value seperate by \",\" and create a list from it using list comprehension"
   ]
  },
  {
   "cell_type": "code",
   "execution_count": 63,
   "id": "b50a081d",
   "metadata": {
    "ExecuteTime": {
     "end_time": "2022-03-17T21:03:24.848458Z",
     "start_time": "2022-03-17T21:03:19.070876Z"
    }
   },
   "outputs": [
    {
     "name": "stdout",
     "output_type": "stream",
     "text": [
      "Enter multiple values\n",
      "9,7,8,10\n",
      "\n",
      "The list is [9, 7, 8, 10]\n"
     ]
    }
   ],
   "source": [
    "A = [int(x) for x in input(\"Enter multiple values\\n\").split(',' )]\n",
    "print(\"\\nThe list is\", A)"
   ]
  },
  {
   "cell_type": "markdown",
   "id": "05f27457",
   "metadata": {},
   "source": [
    "69. Write a program that calculates and prints the value according to the given formula:\n",
    "Q = Square root of (2 C D)/H\n",
    "given,\n",
    "c=50\n",
    "h=30\n",
    "D is the variable whose values should be input to your program in a comma-separated sequence.\n",
    "Example 100,150,180\n",
    "The output : 18,22,24"
   ]
  },
  {
   "cell_type": "code",
   "execution_count": 73,
   "id": "32ddcdde",
   "metadata": {
    "ExecuteTime": {
     "end_time": "2022-03-17T21:28:32.631492Z",
     "start_time": "2022-03-17T21:28:27.166375Z"
    }
   },
   "outputs": [
    {
     "name": "stdout",
     "output_type": "stream",
     "text": [
      "Enter multiple values\n",
      "100,150,180\n",
      "18,22,24\n"
     ]
    }
   ],
   "source": [
    "import math\n",
    "C = 50\n",
    "H = 30\n",
    "value = []\n",
    "items = [x for x in input(\"Enter multiple values\\n\").split(',' )]\n",
    "for D in items:\n",
    "    value.append(str(int(round(math.sqrt(2*C*float(D)/H)))))\n",
    "print(','.join(value))"
   ]
  },
  {
   "cell_type": "markdown",
   "id": "520b54cf",
   "metadata": {},
   "source": [
    "70. Write a program that accepts a sequence of whitespace separated words as input and prints the words after removing all duplicate words and sorting them alphanumerically."
   ]
  },
  {
   "cell_type": "code",
   "execution_count": 80,
   "id": "786d9888",
   "metadata": {
    "ExecuteTime": {
     "end_time": "2022-03-17T21:45:43.098077Z",
     "start_time": "2022-03-17T21:45:33.760399Z"
    }
   },
   "outputs": [
    {
     "name": "stdout",
     "output_type": "stream",
     "text": [
      "Enter words\n",
      "blue red blue black apple\n",
      "['apple', 'black', 'blue', 'red']\n"
     ]
    }
   ],
   "source": [
    "words = [x for x in input(\"Enter words\\n\").split(\" \")]\n",
    "words_dup = list(dict.fromkeys(words))\n",
    "words_dup.sort()\n",
    "print(words_dup)"
   ]
  },
  {
   "cell_type": "markdown",
   "id": "10fe2974",
   "metadata": {},
   "source": [
    "71. Write a program which accepts a sequence of comma separated 4 digit binary numbers and then check whether they are divisible by 5 or not. print the number\n",
    "Example: 0100,0011,1010,1001 Then the output should be: 1010"
   ]
  },
  {
   "cell_type": "markdown",
   "id": "990071e0",
   "metadata": {},
   "source": [
    "72. By using list comprehension, please write a program to print the list after removing the even index numbers\n",
    "li=range(10)"
   ]
  },
  {
   "cell_type": "code",
   "execution_count": 13,
   "id": "f970f440",
   "metadata": {
    "ExecuteTime": {
     "end_time": "2022-03-22T21:36:33.817918Z",
     "start_time": "2022-03-22T21:36:33.813439Z"
    }
   },
   "outputs": [
    {
     "name": "stdout",
     "output_type": "stream",
     "text": [
      "[1, 3, 5, 7, 9]\n"
     ]
    }
   ],
   "source": [
    "li = range(10)\n",
    "mylist = [x for x in li if x%2!=0 ]\n",
    "print(mylist)\n"
   ]
  },
  {
   "cell_type": "markdown",
   "id": "0f43b5f1",
   "metadata": {},
   "source": [
    "73. write a function to get the sum of two num(use lambda)"
   ]
  },
  {
   "cell_type": "code",
   "execution_count": 15,
   "id": "c0fa63a3",
   "metadata": {
    "ExecuteTime": {
     "end_time": "2022-03-22T21:42:55.291309Z",
     "start_time": "2022-03-22T21:42:55.285197Z"
    }
   },
   "outputs": [
    {
     "name": "stdout",
     "output_type": "stream",
     "text": [
      "60\n",
      "1292\n"
     ]
    }
   ],
   "source": [
    "add = lambda a, b : a + b\n",
    " \n",
    "print(add(27, 33))\n",
    "print(add(305,987))"
   ]
  },
  {
   "cell_type": "markdown",
   "id": "8561092d",
   "metadata": {},
   "source": [
    "74. write a function to print if leap year or not"
   ]
  },
  {
   "cell_type": "code",
   "execution_count": 16,
   "id": "20a9d9d5",
   "metadata": {
    "ExecuteTime": {
     "end_time": "2022-03-22T21:49:12.075217Z",
     "start_time": "2022-03-22T21:49:06.196083Z"
    }
   },
   "outputs": [
    {
     "name": "stdout",
     "output_type": "stream",
     "text": [
      "Enter a year: 2022\n",
      "2022 is not a leap year\n"
     ]
    }
   ],
   "source": [
    "year = int(input(\"Enter a year: \"))\n",
    "if (year % 400 == 0) and (year % 100 == 0):\n",
    "    print(\"{0} is a leap year\".format(year))\n",
    "elif (year % 4 ==0) and (year % 100 != 0):\n",
    "    print(\"{0} is a leap year\".format(year))\n",
    "else:\n",
    "    print(\"{0} is not a leap year\".format(year))"
   ]
  },
  {
   "cell_type": "markdown",
   "id": "5fbc70d7",
   "metadata": {},
   "source": [
    "76. write a program to get the area of a circle from the radius (use lambda)"
   ]
  },
  {
   "cell_type": "code",
   "execution_count": 18,
   "id": "3858b332",
   "metadata": {
    "ExecuteTime": {
     "end_time": "2022-03-22T21:54:01.126568Z",
     "start_time": "2022-03-22T21:53:58.602307Z"
    }
   },
   "outputs": [
    {
     "name": "stdout",
     "output_type": "stream",
     "text": [
      "Please enter the circle's radius:8\n",
      "200.96\n"
     ]
    }
   ],
   "source": [
    "PI = 3.14\n",
    "radius = float(input(\"Please enter the circle's radius:\"))\n",
    "area = lambda radius : PI * radius **2\n",
    "print(area(radius))"
   ]
  },
  {
   "cell_type": "markdown",
   "id": "6ac6238a",
   "metadata": {},
   "source": [
    "77. write a function to get the factorial of given number use recursion"
   ]
  },
  {
   "cell_type": "code",
   "execution_count": 22,
   "id": "655d7b53",
   "metadata": {
    "ExecuteTime": {
     "end_time": "2022-03-22T22:07:04.982263Z",
     "start_time": "2022-03-22T22:07:03.350000Z"
    }
   },
   "outputs": [
    {
     "name": "stdout",
     "output_type": "stream",
     "text": [
      "Enter a number: 4\n",
      "24\n"
     ]
    }
   ],
   "source": [
    "def re_factorial(n):  \n",
    "   if n == 1:  \n",
    "       return n  \n",
    "   else:\n",
    "       return n*re_factorial(n-1)\n",
    "    \n",
    "num = int(input(\"Enter a number: \")) \n",
    "if num < 0:\n",
    "    print(\"Please enter positive number\")\n",
    "elif num == 0:\n",
    "    print(\"The factorial of 0 is 1\")\n",
    "else:\n",
    "    print(re_factorial(num))"
   ]
  },
  {
   "cell_type": "markdown",
   "id": "10f5978d",
   "metadata": {},
   "source": [
    "78. write a program to remove a duplicate word in a list or user input sentences.\n"
   ]
  },
  {
   "cell_type": "code",
   "execution_count": 23,
   "id": "06bcfb1f",
   "metadata": {
    "ExecuteTime": {
     "end_time": "2022-03-22T22:25:38.090429Z",
     "start_time": "2022-03-22T22:25:10.459075Z"
    }
   },
   "outputs": [
    {
     "name": "stdout",
     "output_type": "stream",
     "text": [
      "Enter a sentence or list of words: Finland is is the happiest country country\n",
      "Finland is the happiest country\n"
     ]
    }
   ],
   "source": [
    "word = input(\"Enter a sentence or list of words: \")\n",
    "print(' '.join(dict.fromkeys(word.split())))"
   ]
  },
  {
   "cell_type": "markdown",
   "id": "bca18f4b",
   "metadata": {},
   "source": [
    "79. calculate fibonacci"
   ]
  },
  {
   "cell_type": "code",
   "execution_count": 27,
   "id": "25376ed8",
   "metadata": {
    "ExecuteTime": {
     "end_time": "2022-03-22T22:43:13.167072Z",
     "start_time": "2022-03-22T22:43:09.107621Z"
    }
   },
   "outputs": [
    {
     "name": "stdout",
     "output_type": "stream",
     "text": [
      "How many terms: 9\n",
      "The fibonacci sequence of the number is:\n",
      "0\n",
      "1\n",
      "1\n",
      "2\n",
      "3\n",
      "5\n",
      "8\n",
      "13\n",
      "21\n"
     ]
    }
   ],
   "source": [
    "n_terms = int(input(\"How many terms: \"))\n",
    "n_1 = 0\n",
    "n_2 = 1\n",
    "count = 0\n",
    "if n_terms <= 0:\n",
    "    print(\"Enter a positive number\")\n",
    "elif n_terms == 1:\n",
    "    print(\"Fibonacci sequence up to\",n_terms,\":\")\n",
    "    print(n_1)\n",
    "else:\n",
    "    print(\"The fibonacci sequence of the number is:\")\n",
    "    while count < n_terms:\n",
    "        print(n_1)\n",
    "        fs = n_1 +n_2\n",
    "        n_1 = n_2\n",
    "        n_2 = fs\n",
    "        count+=1"
   ]
  },
  {
   "cell_type": "markdown",
   "id": "1f58a6c8",
   "metadata": {},
   "source": [
    "80. write a function to get the permutation and combination"
   ]
  },
  {
   "cell_type": "code",
   "execution_count": 28,
   "id": "f9cb15ca",
   "metadata": {
    "ExecuteTime": {
     "end_time": "2022-03-22T22:50:52.274139Z",
     "start_time": "2022-03-22T22:50:52.263014Z"
    }
   },
   "outputs": [
    {
     "name": "stdout",
     "output_type": "stream",
     "text": [
      "(9, 0, 4)\n",
      "(9, 4, 0)\n",
      "(0, 9, 4)\n",
      "(0, 4, 9)\n",
      "(4, 9, 0)\n",
      "(4, 0, 9)\n"
     ]
    }
   ],
   "source": [
    "from itertools import permutations\n",
    "perm = permutations([9,0,4])\n",
    "for x in list(perm):\n",
    "    print (x)"
   ]
  },
  {
   "cell_type": "code",
   "execution_count": 30,
   "id": "97646679",
   "metadata": {
    "ExecuteTime": {
     "end_time": "2022-03-22T22:53:15.291097Z",
     "start_time": "2022-03-22T22:53:15.283309Z"
    }
   },
   "outputs": [
    {
     "name": "stdout",
     "output_type": "stream",
     "text": [
      "(9, 0)\n",
      "(9, 4)\n",
      "(9, 11)\n",
      "(0, 4)\n",
      "(0, 11)\n",
      "(4, 11)\n"
     ]
    }
   ],
   "source": [
    "from itertools import combinations\n",
    "com = combinations([9,0,4,11], 2)\n",
    "for x in list(com):\n",
    "    print(x)"
   ]
  },
  {
   "cell_type": "code",
   "execution_count": null,
   "id": "83b1cd2d",
   "metadata": {},
   "outputs": [],
   "source": [
    "a=15\n",
    "b=16\n",
    "print(a&b)\n",
    "print(a|b)\n",
    "print(a^b)\n",
    "print(a << b)\n",
    "print(a >> b)\n",
    "print(~a)\n",
    "question 12"
   ]
  }
 ],
 "metadata": {
  "kernelspec": {
   "display_name": "Python 3 (ipykernel)",
   "language": "python",
   "name": "python3"
  },
  "language_info": {
   "codemirror_mode": {
    "name": "ipython",
    "version": 3
   },
   "file_extension": ".py",
   "mimetype": "text/x-python",
   "name": "python",
   "nbconvert_exporter": "python",
   "pygments_lexer": "ipython3",
   "version": "3.9.7"
  },
  "toc": {
   "base_numbering": 1,
   "nav_menu": {},
   "number_sections": true,
   "sideBar": true,
   "skip_h1_title": false,
   "title_cell": "Table of Contents",
   "title_sidebar": "Contents",
   "toc_cell": false,
   "toc_position": {},
   "toc_section_display": true,
   "toc_window_display": false
  },
  "varInspector": {
   "cols": {
    "lenName": 16,
    "lenType": 16,
    "lenVar": 40
   },
   "kernels_config": {
    "python": {
     "delete_cmd_postfix": "",
     "delete_cmd_prefix": "del ",
     "library": "var_list.py",
     "varRefreshCmd": "print(var_dic_list())"
    },
    "r": {
     "delete_cmd_postfix": ") ",
     "delete_cmd_prefix": "rm(",
     "library": "var_list.r",
     "varRefreshCmd": "cat(var_dic_list()) "
    }
   },
   "types_to_exclude": [
    "module",
    "function",
    "builtin_function_or_method",
    "instance",
    "_Feature"
   ],
   "window_display": false
  }
 },
 "nbformat": 4,
 "nbformat_minor": 5
}
